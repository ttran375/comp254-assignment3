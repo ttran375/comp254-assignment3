{
 "cells": [
  {
   "cell_type": "markdown",
   "metadata": {},
   "source": [
    "# Lab Assignment #3 – Using Recursion\n",
    "\n",
    "Purpose: The purpose of this Lab assignment is to:\n",
    "\n",
    "- Design recursive algorithms\n",
    "\n",
    "- Implement recursive methods in Java or Python\n",
    "\n",
    "References: Read the course’s text chapter 5 and the lecture slides.\n",
    "This material provides the necessary information that you need to\n",
    "complete the exercises."
   ]
  },
  {
   "cell_type": "markdown",
   "metadata": {},
   "source": [
    "## Exercise 1"
   ]
  },
  {
   "cell_type": "markdown",
   "metadata": {},
   "source": [
    "**If your first name starts with a letter from A-J inclusively:**\n",
    "\n",
    "Create a **recursive algorithm** to compute the **product of two\n",
    "positive integers**, *m* and *n*, using only addition and subtraction.\n",
    "Implement the Java or Python code. **Hint:** You need subtraction to\n",
    "count down from *m* or *n* and addition to do the arithmetic needed to\n",
    "get the right answer. Check *linearSum* method from Week 5 examples."
   ]
  },
  {
   "cell_type": "code",
   "execution_count": 1,
   "metadata": {},
   "outputs": [
    {
     "name": "stdout",
     "output_type": "stream",
     "text": [
      "8\n"
     ]
    }
   ],
   "source": [
    "def compute_product(m, n):\n",
    "    \"\"\"\n",
    "    Computes the product of two positive integers using addition and recursion.\n",
    "    \"\"\"\n",
    "    return (\n",
    "        # Base case: If n is 0, the product is 0\n",
    "        0\n",
    "        if n == 0\n",
    "        # Recursive case: Add m to the product of m and (n-1)\n",
    "        else m + compute_product(m, n - 1)\n",
    "    )\n",
    "\n",
    "\n",
    "def main():\n",
    "    m = 4\n",
    "    n = 2\n",
    "    result = compute_product(m, n)\n",
    "    print(result)\n",
    "\n",
    "\n",
    "if __name__ == \"__main__\":\n",
    "    main()"
   ]
  },
  {
   "cell_type": "markdown",
   "metadata": {},
   "source": [
    "**If your first name starts with a letter from K-Z inclusively:**\n",
    "\n",
    "Write a recursive method to produce the following pattern:\n",
    "\n",
    "```\n",
    "*\n",
    "**\n",
    "***\n",
    "****\n",
    "***\n",
    "**\n",
    "*\n",
    "```\n",
    "\n",
    "Test the method by asking the user to enter the number of asterisks of\n",
    "the maximum line (for example, the user should enter 4 in this case).\n",
    "\n",
    "(3 marks)"
   ]
  },
  {
   "cell_type": "code",
   "execution_count": 2,
   "metadata": {},
   "outputs": [
    {
     "name": "stdout",
     "output_type": "stream",
     "text": [
      "*\n",
      "**\n",
      "***\n",
      "****\n",
      "***\n",
      "**\n",
      "*\n"
     ]
    }
   ],
   "source": [
    "def print_asterisks(n, current=1):\n",
    "    \"\"\"\n",
    "    Prints a pattern of asterisks using recursion.\n",
    "    \"\"\"\n",
    "    return (\n",
    "        # Base case: If the current line number exceeds n, terminate the recursion\n",
    "        None\n",
    "        if current > n\n",
    "        # Recursive case:\n",
    "        else (\n",
    "            # Print asterisks for the current line\n",
    "            print(\"*\" * current)\n",
    "            # Recursive call to print the next line\n",
    "            or print_asterisks(n, current + 1)\n",
    "            # Print the current line again after the recursion\n",
    "            or (current != n and print(\"*\" * current))\n",
    "        )\n",
    "    )\n",
    "\n",
    "\n",
    "def main():\n",
    "    max_stars = int(input(\"Enter the number of asterisks of the maximum line: \"))\n",
    "    print_asterisks(max_stars)\n",
    "\n",
    "\n",
    "if __name__ == \"__main__\":\n",
    "    main()"
   ]
  },
  {
   "cell_type": "markdown",
   "metadata": {},
   "source": [
    "## Exercise 2\n",
    "\n",
    "**If your first name starts with a letter from A-J inclusively:**\n",
    "\n",
    "Write a short **recursive Java method** that determines if a string s is\n",
    "a palindrome, that is, it is equal to its reverse. Examples of\n",
    "palindromes include 'racecar' and 'mom'. Test the method by asking the\n",
    "user to provide string entries to be checked. **Hint:** Check the\n",
    "equality of the first and last characters and recur (but be careful to\n",
    "return the correct value for both odd and even-length strings)."
   ]
  },
  {
   "cell_type": "code",
   "execution_count": 3,
   "metadata": {},
   "outputs": [
    {
     "name": "stdout",
     "output_type": "stream",
     "text": [
      "True\n"
     ]
    }
   ],
   "source": [
    "def is_palindrome(s):\n",
    "    \"\"\"\n",
    "    Checks if a given string is a palindrome using recursion.\n",
    "    \"\"\"\n",
    "    # Remove non-alphanumeric characters and  convert all letters to lowercase\n",
    "    s = \"\".join(char for char in s if char.isalnum()).lower()\n",
    "\n",
    "    return (\n",
    "        # Base case: If the string length is 1 or 0, it's a palindrome\n",
    "        len(s) <= 1\n",
    "        or\n",
    "        # Recursive case: Check if the first and last characters of the string are the same\n",
    "        (s[0] == s[-1] and is_palindrome(s[1:-1]))\n",
    "    )\n",
    "\n",
    "\n",
    "def main():\n",
    "    s = input(\"Provide string entries to be checked: \").strip()\n",
    "    print(is_palindrome(s))\n",
    "\n",
    "\n",
    "if __name__ == \"__main__\":\n",
    "    main()"
   ]
  },
  {
   "cell_type": "markdown",
   "metadata": {},
   "source": [
    "**If your first name starts with a letter from K-Z inclusively:**\n",
    "\n",
    "Write **a recursive method** to that returns the number of vowels in a\n",
    "string. Test the method by asking the user to enter a string. **Hint**:\n",
    "create a special method for checking if a character is a vowel.\n",
    "\n",
    "(3 marks)"
   ]
  },
  {
   "cell_type": "code",
   "execution_count": 4,
   "metadata": {},
   "outputs": [
    {
     "name": "stdout",
     "output_type": "stream",
     "text": [
      "The number of vowels in the string is: 12\n"
     ]
    }
   ],
   "source": [
    "def is_vowel(char):\n",
    "    \"\"\"\n",
    "    Checks if the given character is a vowel (a, e, i, o, u).\n",
    "    \"\"\"\n",
    "    # Convert the character to lowercase and check if it is in the string \"aeiou\"\n",
    "    return char.lower() in \"aeiou\"\n",
    "\n",
    "\n",
    "def count_vowels(s):\n",
    "    \"\"\"\n",
    "    Counts the number of vowels in a given string using recursion.\n",
    "    \"\"\"\n",
    "    return (\n",
    "        # Base case: if the string is empty, return 0 (no vowels in an empty string)\n",
    "        0\n",
    "        if not s\n",
    "        # Recursive case: check the first character of the string\n",
    "        else (\n",
    "            # Add 1 if the character is a vowel\n",
    "            1\n",
    "            if is_vowel(s[0])\n",
    "            else 0\n",
    "        )\n",
    "        +\n",
    "        # Call the function recursively on the rest of the string (s[1:])\n",
    "        count_vowels(s[1:])\n",
    "    )\n",
    "\n",
    "\n",
    "def main():\n",
    "    user_input = input(\"Enter a string: \")\n",
    "    num_vowels = count_vowels(user_input)\n",
    "    print(f\"The number of vowels in the string is: {num_vowels}\")\n",
    "\n",
    "\n",
    "if __name__ == \"__main__\":\n",
    "    main()"
   ]
  },
  {
   "cell_type": "markdown",
   "metadata": {},
   "source": [
    "## Exercise 3\n",
    "\n",
    "**If your first name starts with a letter from A-J inclusively:**\n",
    "\n",
    "Write **a recursive method** that takes a string as argument and\n",
    "determines if the string has more vowels than consonants. Test the\n",
    "method by asking the user to enter a string. **Hint**: Write your\n",
    "recursive method to first count vowels and consonants."
   ]
  },
  {
   "cell_type": "code",
   "execution_count": 5,
   "metadata": {},
   "outputs": [
    {
     "name": "stdout",
     "output_type": "stream",
     "text": [
      "True\n"
     ]
    }
   ],
   "source": [
    "def is_vowel(char):\n",
    "    \"\"\"\n",
    "    Checks if the given character is a vowel (a, e, i, o, u).\n",
    "    \"\"\"\n",
    "    # Convert the character to lowercase and check if it is in the string \"aeiou\"\n",
    "    return char.lower() in \"aeiou\"\n",
    "\n",
    "\n",
    "def count_vowels(s):\n",
    "    \"\"\"\n",
    "    Counts the number of vowels in a given string using recursion.\n",
    "    \"\"\"\n",
    "    return (\n",
    "        # Base case: if the string is empty, return 0 (no vowels in an empty string)\n",
    "        0\n",
    "        if not s\n",
    "        # Recursive case: check the first character of the string\n",
    "        else (\n",
    "            # Add 1 if the character is a vowel\n",
    "            1\n",
    "            if is_vowel(s[0])\n",
    "            else 0\n",
    "        )\n",
    "        +\n",
    "        # Call the function recursively on the rest of the string (s[1:])\n",
    "        count_vowels(s[1:])\n",
    "    )\n",
    "\n",
    "\n",
    "def count_consonants(s):\n",
    "    \"\"\"\n",
    "    Counts the number of consonants in a given string using recursion.\n",
    "    \"\"\"\n",
    "    return (\n",
    "        # Base case: If the string is empty, return 0\n",
    "        0\n",
    "        if not s\n",
    "        # Recursive case:\n",
    "        else (\n",
    "            # Add 1 if the character is a consonant\n",
    "            1\n",
    "            if s[0].isalpha() and not is_vowel(s[0])\n",
    "            else 0\n",
    "        )\n",
    "        +\n",
    "        # Counting vowels in the rest of the string\n",
    "        count_consonants(s[1:])\n",
    "    )\n",
    "\n",
    "\n",
    "def has_more_vowels_than_consonants(s):\n",
    "    \"\"\"\n",
    "    Checks if a given string has more vowels than consonants.\n",
    "    \"\"\"\n",
    "    # Compare the number of vowels and consonants in the string\n",
    "    return count_vowels(s) > count_consonants(s)\n",
    "\n",
    "\n",
    "def main():\n",
    "    user_input = input(\"Enter a string: \")\n",
    "    print(has_more_vowels_than_consonants(user_input))\n",
    "\n",
    "\n",
    "if __name__ == \"__main__\":\n",
    "    main()"
   ]
  },
  {
   "cell_type": "markdown",
   "metadata": {},
   "source": [
    "**If your first name starts with a letter from K-Z inclusively:**\n",
    "\n",
    "Implement a **recursive method** that takes *(path, filename)* as\n",
    "arguments and returns all entries of the file system rooted at the given\n",
    "*path* having the given *file name*. Test the method with a real path,\n",
    "filename from your file system. **Hint**: Review use of the\n",
    "*java.io.File* class and the week 5 examples.\n",
    "\n",
    "(4 marks)"
   ]
  },
  {
   "cell_type": "code",
   "execution_count": 6,
   "metadata": {},
   "outputs": [
    {
     "name": "stdout",
     "output_type": "stream",
     "text": [
      "Entries found with filename '__init__.py':\n",
      "./exercise3/__init__.py\n",
      "./exercise1/__init__.py\n",
      "./exercise2/__init__.py\n"
     ]
    }
   ],
   "source": [
    "import os\n",
    "\n",
    "\n",
    "def find_files_by_name(directory_path, target_filename):\n",
    "    found_files = []\n",
    "\n",
    "    if not os.path.exists(directory_path):\n",
    "        return found_files\n",
    "\n",
    "    if os.path.isfile(directory_path):\n",
    "        if os.path.basename(directory_path) == target_filename:\n",
    "            found_files.append(directory_path)\n",
    "        return found_files\n",
    "\n",
    "    for item in os.listdir(directory_path):\n",
    "        full_item_path = os.path.join(directory_path, item)\n",
    "\n",
    "        if os.path.isdir(full_item_path):\n",
    "            found_files.extend(find_files_by_name(full_item_path, target_filename))\n",
    "\n",
    "        elif os.path.isfile(full_item_path) and item == target_filename:\n",
    "            found_files.append(full_item_path)\n",
    "\n",
    "    return found_files\n",
    "\n",
    "\n",
    "def main():\n",
    "    directory = \".\"\n",
    "    filename = \"__init__.py\"\n",
    "\n",
    "    search_results = find_files_by_name(directory, filename)\n",
    "    if search_results:\n",
    "        print(f\"Entries found with filename '{filename}':\")\n",
    "        for file_path in search_results:\n",
    "            print(file_path)\n",
    "    else:\n",
    "        print(f\"No entries found with filename '{filename}'.\")\n",
    "\n",
    "\n",
    "if __name__ == \"__main__\":\n",
    "    main()"
   ]
  },
  {
   "cell_type": "markdown",
   "metadata": {},
   "source": [
    "## Appendix\n",
    "\n",
    "`linear_sum.py`:\n",
    "\n",
    "```python\n",
    "# Copyright 2013, Michael H. Goldwasser\n",
    "#\n",
    "# Developed for use with the book:\n",
    "#\n",
    "#    Data Structures and Algorithms in Python\n",
    "#    Michael T. Goodrich, Roberto Tamassia, and Michael H. Goldwasser\n",
    "#    John Wiley & Sons, 2013\n",
    "#\n",
    "# This program is free software: you can redistribute it and/or modify\n",
    "# it under the terms of the GNU General Public License as published by\n",
    "# the Free Software Foundation, either version 3 of the License, or\n",
    "# (at your option) any later version.\n",
    "#\n",
    "# This program is distributed in the hope that it will be useful,\n",
    "# but WITHOUT ANY WARRANTY; without even the implied warranty of\n",
    "# MERCHANTABILITY or FITNESS FOR A PARTICULAR PURPOSE.  See the\n",
    "# GNU General Public License for more details.\n",
    "#\n",
    "# You should have received a copy of the GNU General Public License\n",
    "# along with this program.  If not, see <http://www.gnu.org/licenses/>.\n",
    "\n",
    "def linear_sum(S, n):\n",
    "    \"\"\"Return the sum of the first n numbers of sequence S.\"\"\"\n",
    "    if n == 0:\n",
    "        return 0\n",
    "    else:\n",
    "        return linear_sum(S, n-1) + S[n-1]\n",
    "```\n",
    "\n",
    "`disk_usage.py`:\n",
    "\n",
    "```python\n",
    "# Copyright 2013, Michael H. Goldwasser\n",
    "#\n",
    "# Developed for use with the book:\n",
    "#\n",
    "#    Data Structures and Algorithms in Python\n",
    "#    Michael T. Goodrich, Roberto Tamassia, and Michael H. Goldwasser\n",
    "#    John Wiley & Sons, 2013\n",
    "#\n",
    "# This program is free software: you can redistribute it and/or modify\n",
    "# it under the terms of the GNU General Public License as published by\n",
    "# the Free Software Foundation, either version 3 of the License, or\n",
    "# (at your option) any later version.\n",
    "#\n",
    "# This program is distributed in the hope that it will be useful,\n",
    "# but WITHOUT ANY WARRANTY; without even the implied warranty of\n",
    "# MERCHANTABILITY or FITNESS FOR A PARTICULAR PURPOSE.  See the\n",
    "# GNU General Public License for more details.\n",
    "#\n",
    "# You should have received a copy of the GNU General Public License\n",
    "# along with this program.  If not, see <http://www.gnu.org/licenses/>.\n",
    "\n",
    "import os\n",
    "\n",
    "def disk_usage(path):\n",
    "  \"\"\"Return the number of bytes used by a file/folder and any descendents.\"\"\"\n",
    "  total = os.path.getsize(path)                  # account for direct usage\n",
    "  if os.path.isdir(path):                        # if this is a directory,\n",
    "    for filename in os.listdir(path):            # then for each child:\n",
    "      childpath = os.path.join(path, filename)   # compose full path to child\n",
    "      total += disk_usage(childpath)             # add child's usage to total\n",
    "\n",
    "  print ('{0:<7}'.format(total), path)           # descriptive output (optional)\n",
    "  return total                                   # return the grand total\n",
    "```"
   ]
  }
 ],
 "metadata": {
  "kernelspec": {
   "display_name": "Python 3",
   "language": "python",
   "name": "python3"
  },
  "language_info": {
   "codemirror_mode": {
    "name": "ipython",
    "version": 3
   },
   "file_extension": ".py",
   "mimetype": "text/x-python",
   "name": "python",
   "nbconvert_exporter": "python",
   "pygments_lexer": "ipython3",
   "version": "3.12.3"
  }
 },
 "nbformat": 4,
 "nbformat_minor": 2
}
